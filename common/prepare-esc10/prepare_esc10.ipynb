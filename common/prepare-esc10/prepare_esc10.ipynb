{
 "cells": [
  {
   "cell_type": "code",
   "execution_count": 1,
   "metadata": {
    "ExecuteTime": {
     "end_time": "2024-05-15T06:27:46.880043900Z",
     "start_time": "2024-05-15T06:27:41.286406600Z"
    }
   },
   "outputs": [],
   "source": [
    "import librosa\n",
    "import soundfile as sf\n",
    "import numpy as np\n",
    "import os\n",
    "import shutil\n",
    "import glob\n",
    "from sklearn.model_selection import StratifiedKFold"
   ]
  },
  {
   "cell_type": "code",
   "execution_count": 9,
   "metadata": {
    "ExecuteTime": {
     "end_time": "2024-05-15T06:37:32.558390Z",
     "start_time": "2024-05-15T06:37:32.553648200Z"
    }
   },
   "outputs": [],
   "source": [
    "# change the sample rate and the number of samples according to your needs\n",
    "sr = 20000\n",
    "samples = sr * 5  # 5 seconds audio clips"
   ]
  },
  {
   "cell_type": "code",
   "execution_count": 10,
   "metadata": {
    "ExecuteTime": {
     "end_time": "2024-05-15T06:37:32.918598600Z",
     "start_time": "2024-05-15T06:37:32.914068400Z"
    }
   },
   "outputs": [],
   "source": [
    "mainDir = os.path.dirname(os.path.dirname(os.getcwd()))\n",
    "dst_path = os.path.join(mainDir, 'datasets', 'esc10')\n",
    "\n",
    "master = os.path.join(dst_path, 'master')\n",
    "\n",
    "if not os.path.exists(master):\n",
    "    os.mkdir(master)"
   ]
  },
  {
   "cell_type": "code",
   "execution_count": 11,
   "metadata": {
    "ExecuteTime": {
     "end_time": "2024-05-15T06:37:33.493663800Z",
     "start_time": "2024-05-15T06:37:33.488335900Z"
    }
   },
   "outputs": [],
   "source": [
    "classes = [\"chainsaw\", \"clock_tick\", \"crackling_fire\", \"crying_baby\",\n",
    "           \"dog\", \"helicopter\", \"rain\", \"rooster\", \"sea_waves\", \"sneezing\"]"
   ]
  },
  {
   "cell_type": "code",
   "execution_count": 12,
   "metadata": {
    "ExecuteTime": {
     "end_time": "2024-05-15T06:38:24.533371900Z",
     "start_time": "2024-05-15T06:37:33.991215300Z"
    }
   },
   "outputs": [
    {
     "name": "stdout",
     "output_type": "stream",
     "text": [
      "Processing fold: chainsaw\n",
      "Processing fold: clock_tick\n",
      "Processing fold: crackling_fire\n",
      "Processing fold: crying_baby\n",
      "Processing fold: dog\n",
      "Processing fold: helicopter\n",
      "Processing fold: rain\n",
      "Processing fold: rooster\n",
      "Processing fold: sea_waves\n",
      "Processing fold: sneezing\n"
     ]
    }
   ],
   "source": [
    "for idx, fold in enumerate(classes):\n",
    "    print('Processing fold: {}'.format(fold))\n",
    "    \n",
    "    for src_file in sorted(glob.glob(os.path.join(dst_path, '{}'.format(fold), '*.wav'))):\n",
    "        dst_file = src_file.replace(os.path.join(dst_path, '{}'.format(fold)), master)\n",
    "        dst_file = dst_file.replace('.wav', '_{}.wav'.format(idx))\n",
    "        \n",
    "        audio_data, s = librosa.load(src_file, sr=sr, mono=True)\n",
    "        length = len(audio_data)\n",
    "        n = samples//length + 1\n",
    "        audio_data = np.tile(audio_data, n)\n",
    "        audio_data = audio_data[:samples]\n",
    "        \n",
    "        sf.write(dst_file, audio_data, sr)\n",
    "        "
   ]
  },
  {
   "cell_type": "code",
   "execution_count": 13,
   "metadata": {
    "ExecuteTime": {
     "end_time": "2024-05-15T06:39:24.605827400Z",
     "start_time": "2024-05-15T06:39:24.408316600Z"
    }
   },
   "outputs": [],
   "source": [
    "X = []\n",
    "y = []\n",
    "\n",
    "for processed_file in sorted(glob.glob(os.path.join(master, '*.wav'))):\n",
    "    y.append(int(processed_file.split('_')[1].split('.')[0]))\n",
    "    X.append(librosa.load(processed_file, sr=sr, mono=True)[0])"
   ]
  },
  {
   "cell_type": "code",
   "execution_count": 14,
   "metadata": {
    "ExecuteTime": {
     "end_time": "2024-05-15T06:39:56.781224700Z",
     "start_time": "2024-05-15T06:39:56.654178900Z"
    }
   },
   "outputs": [
    {
     "name": "stdout",
     "output_type": "stream",
     "text": [
      "X shape: (400, 100000)\n",
      "y shape: (400,)\n"
     ]
    }
   ],
   "source": [
    "X = np.array(X)\n",
    "y = np.array(y)\n",
    "\n",
    "print('X shape: {}'.format(np.array(X).shape))\n",
    "print('y shape: {}'.format(np.array(y).shape))"
   ]
  },
  {
   "cell_type": "code",
   "execution_count": 15,
   "metadata": {
    "ExecuteTime": {
     "end_time": "2024-05-15T06:40:03.812220500Z",
     "start_time": "2024-05-15T06:40:03.519061500Z"
    }
   },
   "outputs": [
    {
     "name": "stdout",
     "output_type": "stream",
     "text": [
      "Fold 1:\n",
      "  Training samples: 320\n",
      "  Testing samples: 80\n",
      "Testing bin count -  [8 8 8 8 8 8 8 8 8 8]\n",
      "Fold 2:\n",
      "  Training samples: 320\n",
      "  Testing samples: 80\n",
      "Testing bin count -  [8 8 8 8 8 8 8 8 8 8]\n",
      "Fold 3:\n",
      "  Training samples: 320\n",
      "  Testing samples: 80\n",
      "Testing bin count -  [8 8 8 8 8 8 8 8 8 8]\n",
      "Fold 4:\n",
      "  Training samples: 320\n",
      "  Testing samples: 80\n",
      "Testing bin count -  [8 8 8 8 8 8 8 8 8 8]\n",
      "Fold 5:\n",
      "  Training samples: 320\n",
      "  Testing samples: 80\n",
      "Testing bin count -  [8 8 8 8 8 8 8 8 8 8]\n",
      "Dataset created\n"
     ]
    }
   ],
   "source": [
    "# Create an instance of StratifiedKFold with 5 folds\n",
    "stratified_kfold = StratifiedKFold(n_splits=5, shuffle=True, random_state=42)\n",
    "\n",
    "ESC10 = {}\n",
    "\n",
    "# Iterate over the folds\n",
    "for fold, (train_index, test_index) in enumerate(stratified_kfold.split(X, y)):\n",
    "    ESC10['fold{}'.format(fold + 1)] = {}\n",
    "    # Split the data into training and testing sets\n",
    "    X_train, X_test = [X[i] for i in train_index], [X[i] for i in test_index]\n",
    "    y_train, y_test = [y[i] for i in train_index], [y[i] for i in test_index]\n",
    "\n",
    "    # Now, X_train, y_train contain the training data for the current fold\n",
    "    # and X_test, y_test contain the testing data for the current fold\n",
    "\n",
    "    print(f\"Fold {fold + 1}:\")\n",
    "    print(f\"  Training samples: {len(X_train)}\")\n",
    "    print(f\"  Testing samples: {len(X_test)}\")\n",
    "    \n",
    "    print('Testing bin count -  {}'.format(np.bincount(y_test)))\n",
    "    \n",
    "    ESC10['fold{}'.format(fold + 1)]['sounds'] = X_test\n",
    "    ESC10['fold{}'.format(fold + 1)]['labels'] = y_test\n",
    "\n",
    "save_path = os.path.join(dst_path, 'wav{}.npz'.format(sr//1000))\n",
    "np.savez(save_path, **ESC10)   \n",
    "print('Dataset created')"
   ]
  },
  {
   "cell_type": "code",
   "execution_count": 16,
   "metadata": {
    "ExecuteTime": {
     "end_time": "2024-05-15T06:40:06.314649400Z",
     "start_time": "2024-05-15T06:40:06.154458200Z"
    }
   },
   "outputs": [],
   "source": [
    "shutil.rmtree(master)"
   ]
  },
  {
   "cell_type": "markdown",
   "source": [],
   "metadata": {
    "collapsed": false
   }
  }
 ],
 "metadata": {
  "kernelspec": {
   "display_name": "tf-gpu-env",
   "language": "python",
   "name": "python3"
  },
  "language_info": {
   "codemirror_mode": {
    "name": "ipython",
    "version": 3
   },
   "file_extension": ".py",
   "mimetype": "text/x-python",
   "name": "python",
   "nbconvert_exporter": "python",
   "pygments_lexer": "ipython3",
   "version": "3.11.4"
  }
 },
 "nbformat": 4,
 "nbformat_minor": 2
}
