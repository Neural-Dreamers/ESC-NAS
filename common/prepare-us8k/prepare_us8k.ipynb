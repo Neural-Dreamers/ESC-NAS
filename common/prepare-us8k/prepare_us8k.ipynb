{
 "cells": [
  {
   "cell_type": "code",
   "execution_count": null,
   "metadata": {},
   "outputs": [],
   "source": [
    "import librosa\n",
    "import soundfile as sf\n",
    "import numpy as np\n",
    "import os\n",
    "import shutil\n",
    "import glob\n",
    "from sklearn.model_selection import StratifiedKFold"
   ]
  },
  {
   "cell_type": "code",
   "execution_count": null,
   "metadata": {},
   "outputs": [],
   "source": [
    "# change the sample rate and the number of samples according to your needs\n",
    "sr = 20000\n",
    "samples = sr * 5  # 5 seconds audio clips"
   ]
  },
  {
   "cell_type": "code",
   "execution_count": null,
   "metadata": {},
   "outputs": [],
   "source": [
    "mainDir = os.path.dirname(os.path.dirname(os.getcwd()))\n",
    "dst_path = os.path.join(mainDir, 'datasets', 'urbansound8k')\n",
    "\n",
    "master = os.path.join(dst_path, 'master')\n",
    "\n",
    "if not os.path.exists(master):\n",
    "    os.mkdir(master)"
   ]
  },
  {
   "cell_type": "code",
   "execution_count": null,
   "metadata": {},
   "outputs": [],
   "source": [
    "for fold in range(1, 11):\n",
    "    print('Processing fold {}'.format(fold))\n",
    "    \n",
    "    for src_file in sorted(glob.glob(os.path.join(dst_path, 'fold{}'.format(fold), '*.wav'))):\n",
    "        dst_file = src_file.replace(os.path.join(dst_path, 'fold{}'.format(fold)), master)\n",
    "    \n",
    "        audio_data, s = librosa.load(src_file, sr=sr, mono=True)\n",
    "        length = len(audio_data)\n",
    "        n = samples//length + 1\n",
    "        audio_data = np.tile(audio_data, n)\n",
    "        audio_data = audio_data[:samples]\n",
    "        \n",
    "        sf.write(dst_file, audio_data, sr)\n",
    "        "
   ]
  },
  {
   "cell_type": "code",
   "execution_count": null,
   "metadata": {},
   "outputs": [],
   "source": [
    "X = []\n",
    "y = []\n",
    "\n",
    "for processed_file in sorted(glob.glob(os.path.join(master, '*.wav'))):\n",
    "    y.append(int(processed_file.split('-')[1]))\n",
    "    X.append(librosa.load(processed_file, sr=sr, mono=True)[0])"
   ]
  },
  {
   "cell_type": "code",
   "execution_count": null,
   "metadata": {},
   "outputs": [],
   "source": [
    "X = np.array(X)\n",
    "y = np.array(y)\n",
    "\n",
    "print('X shape: {}'.format(np.array(X).shape))\n",
    "print('y shape: {}'.format(np.array(y).shape))"
   ]
  },
  {
   "cell_type": "code",
   "execution_count": null,
   "metadata": {},
   "outputs": [],
   "source": [
    "# Create an instance of StratifiedKFold with 5 folds\n",
    "stratified_kfold = StratifiedKFold(n_splits=5, shuffle=True, random_state=42)\n",
    "\n",
    "urbanSound8k = {}\n",
    "\n",
    "# Iterate over the folds\n",
    "for fold, (train_index, test_index) in enumerate(stratified_kfold.split(X, y)):\n",
    "    urbanSound8k['fold{}'.format(fold + 1)] = {}\n",
    "    # Split the data into training and testing sets\n",
    "    X_train, X_test = [X[i] for i in train_index], [X[i] for i in test_index]\n",
    "    y_train, y_test = [y[i] for i in train_index], [y[i] for i in test_index]\n",
    "\n",
    "    # Now, X_train, y_train contain the training data for the current fold\n",
    "    # and X_test, y_test contain the testing data for the current fold\n",
    "\n",
    "    print(f\"Fold {fold + 1}:\")\n",
    "    print(f\"  Training samples: {len(X_train)}\")\n",
    "    print(f\"  Testing samples: {len(X_test)}\")\n",
    "    \n",
    "    print('Testing bin count -  {}'.format(np.bincount(y_test)))\n",
    "    \n",
    "    urbanSound8k['fold{}'.format(fold + 1)]['sounds'] = X_test\n",
    "    urbanSound8k['fold{}'.format(fold + 1)]['labels'] = y_test\n",
    "\n",
    "save_path = os.path.join(dst_path, 'wav{}.npz'.format(sr//1000))\n",
    "np.savez(save_path, **urbanSound8k)   \n",
    "print('Dataset created')"
   ]
  },
  {
   "cell_type": "code",
   "execution_count": null,
   "metadata": {},
   "outputs": [],
   "source": [
    "shutil.rmtree(master) # delete the master folder"
   ]
  }
 ],
 "metadata": {
  "kernelspec": {
   "display_name": "tf-gpu-env",
   "language": "python",
   "name": "python3"
  },
  "language_info": {
   "codemirror_mode": {
    "name": "ipython",
    "version": 3
   },
   "file_extension": ".py",
   "mimetype": "text/x-python",
   "name": "python",
   "nbconvert_exporter": "python",
   "pygments_lexer": "ipython3",
   "version": "3.10.0"
  }
 },
 "nbformat": 4,
 "nbformat_minor": 2
}
