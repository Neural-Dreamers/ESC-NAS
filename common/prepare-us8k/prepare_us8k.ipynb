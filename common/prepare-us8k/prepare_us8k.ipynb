{
 "cells": [
  {
   "cell_type": "code",
   "execution_count": null,
   "metadata": {},
   "outputs": [],
   "source": [
    "import librosa\n",
    "import soundfile as sf\n",
    "import numpy as np\n",
    "import os\n",
    "import glob"
   ]
  },
  {
   "cell_type": "code",
   "execution_count": null,
   "metadata": {},
   "outputs": [],
   "source": [
    "# change the sample rate and the number of samples according to your needs\n",
    "sr = 20000\n",
    "samples = sr * 5  # 5 seconds audio clips"
   ]
  },
  {
   "cell_type": "code",
   "execution_count": null,
   "metadata": {},
   "outputs": [],
   "source": [
    "mainDir = os.path.dirname(os.path.dirname(os.getcwd()))\n",
    "dataset_path = os.path.join(mainDir, 'datasets', 'urbansound8k')\n",
    "audio_path = os.path.join(dataset_path, 'UrbanSound8K', 'audio')"
   ]
  },
  {
   "cell_type": "code",
   "execution_count": null,
   "outputs": [],
   "source": [
    "urbanSound8k = {}\n",
    "\n",
    "for fold in range(1, 11):\n",
    "    urbanSound8k['fold{}'.format(fold)] = {}\n",
    "    \n",
    "    fold_X = []\n",
    "    fold_y = []\n",
    "    \n",
    "    for src_file in sorted(glob.glob(os.path.join(audio_path, 'fold{}'.format(fold), '*.wav'))):\n",
    "        audio_data, s = librosa.load(src_file, sr=sr, mono=True)\n",
    "        length = len(audio_data)\n",
    "        n = samples//length + 1\n",
    "        audio_data = np.tile(audio_data, n)\n",
    "        audio_data = audio_data[:samples]\n",
    "        \n",
    "        fold_X.append(audio_data)\n",
    "        fold_y.append(int(os.path.basename(src_file).split('-')[1]))\n",
    "    \n",
    "    fold_X = np.array(fold_X)\n",
    "    fold_y = np.array(fold_y)\n",
    "    print('Fold {}: Shapes X: {} y: {}'.format(fold, fold_X.shape, fold_y.shape))\n",
    "    \n",
    "    urbanSound8k['fold{}'.format(fold)]['sounds'] = fold_X\n",
    "    urbanSound8k['fold{}'.format(fold)]['labels'] = fold_y\n",
    "\n",
    "save_path = os.path.join(dataset_path, 'wav{}.npz'.format(sr//1000))\n",
    "np.savez(save_path, **urbanSound8k)   \n",
    "print('Dataset created')"
   ],
   "metadata": {
    "collapsed": false
   }
  }
 ],
 "metadata": {
  "kernelspec": {
   "display_name": "tf-gpu-env",
   "language": "python",
   "name": "python3"
  },
  "language_info": {
   "codemirror_mode": {
    "name": "ipython",
    "version": 3
   },
   "file_extension": ".py",
   "mimetype": "text/x-python",
   "name": "python",
   "nbconvert_exporter": "python",
   "pygments_lexer": "ipython3",
   "version": "3.10.0"
  }
 },
 "nbformat": 4,
 "nbformat_minor": 2
}
