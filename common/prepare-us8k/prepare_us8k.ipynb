{
 "cells": [
  {
   "cell_type": "code",
   "execution_count": 1,
   "metadata": {
    "ExecuteTime": {
     "end_time": "2024-05-15T07:30:56.238603Z",
     "start_time": "2024-05-15T07:30:52.424044300Z"
    }
   },
   "outputs": [],
   "source": [
    "import librosa\n",
    "import soundfile as sf\n",
    "import numpy as np\n",
    "import os\n",
    "import shutil\n",
    "import glob\n",
    "from sklearn.model_selection import StratifiedKFold"
   ]
  },
  {
   "cell_type": "code",
   "execution_count": 2,
   "metadata": {
    "ExecuteTime": {
     "end_time": "2024-05-15T07:30:56.242999500Z",
     "start_time": "2024-05-15T07:30:56.242002400Z"
    }
   },
   "outputs": [],
   "source": [
    "# change the sample rate and the number of samples according to your needs\n",
    "sr = 20000\n",
    "samples = sr * 5  # 5 seconds audio clips"
   ]
  },
  {
   "cell_type": "code",
   "execution_count": 3,
   "metadata": {
    "ExecuteTime": {
     "end_time": "2024-05-15T07:30:56.259554300Z",
     "start_time": "2024-05-15T07:30:56.243996300Z"
    }
   },
   "outputs": [],
   "source": [
    "mainDir = os.path.dirname(os.path.dirname(os.getcwd()))\n",
    "dataset_path = os.path.join(mainDir, 'datasets', 'urbansound8k')\n",
    "audio_path = os.path.join(dataset_path, 'UrbanSound8K', 'audio')\n",
    "\n",
    "master = os.path.join(dataset_path, 'master')\n",
    "\n",
    "if not os.path.exists(master):\n",
    "    os.mkdir(master)"
   ]
  },
  {
   "cell_type": "code",
   "execution_count": 4,
   "metadata": {
    "ExecuteTime": {
     "end_time": "2024-05-15T07:44:17.391128700Z",
     "start_time": "2024-05-15T07:31:15.757102300Z"
    }
   },
   "outputs": [
    {
     "name": "stdout",
     "output_type": "stream",
     "text": [
      "Processing fold 1\n",
      "Processing fold 2\n",
      "Processing fold 3\n",
      "Processing fold 4\n",
      "Processing fold 5\n",
      "Processing fold 6\n",
      "Processing fold 7\n",
      "Processing fold 8\n",
      "Processing fold 9\n",
      "Processing fold 10\n"
     ]
    }
   ],
   "source": [
    "for fold in range(1, 11):\n",
    "    print('Processing fold {}'.format(fold))\n",
    "    \n",
    "    for src_file in sorted(glob.glob(os.path.join(audio_path, 'fold{}'.format(fold), '*.wav'))):\n",
    "        dst_file = src_file.replace(os.path.join(audio_path, 'fold{}'.format(fold)), master)\n",
    "    \n",
    "        audio_data, s = librosa.load(src_file, sr=sr, mono=True)\n",
    "        length = len(audio_data)\n",
    "        n = samples//length + 1\n",
    "        audio_data = np.tile(audio_data, n)\n",
    "        audio_data = audio_data[:samples]\n",
    "        \n",
    "        sf.write(dst_file, audio_data, sr)\n",
    "        "
   ]
  },
  {
   "cell_type": "code",
   "execution_count": 9,
   "metadata": {
    "ExecuteTime": {
     "end_time": "2024-05-15T07:50:27.959180900Z",
     "start_time": "2024-05-15T07:50:23.959449600Z"
    }
   },
   "outputs": [],
   "source": [
    "X = []\n",
    "y = []\n",
    "\n",
    "for processed_file in sorted(glob.glob(os.path.join(master, '*.wav'))):\n",
    "    y.append(int(os.path.basename(processed_file).split('-')[1]))\n",
    "    X.append(librosa.load(processed_file, sr=sr, mono=True)[0])"
   ]
  },
  {
   "cell_type": "code",
   "execution_count": 10,
   "metadata": {
    "ExecuteTime": {
     "end_time": "2024-05-15T07:50:30.665393600Z",
     "start_time": "2024-05-15T07:50:27.963138800Z"
    }
   },
   "outputs": [
    {
     "name": "stdout",
     "output_type": "stream",
     "text": [
      "X shape: (8732, 100000)\n",
      "y shape: (8732,)\n"
     ]
    }
   ],
   "source": [
    "X = np.array(X)\n",
    "y = np.array(y)\n",
    "\n",
    "print('X shape: {}'.format(np.array(X).shape))\n",
    "print('y shape: {}'.format(np.array(y).shape))"
   ]
  },
  {
   "cell_type": "code",
   "execution_count": 11,
   "metadata": {
    "ExecuteTime": {
     "end_time": "2024-05-15T07:51:05.308568600Z",
     "start_time": "2024-05-15T07:50:49.726443300Z"
    }
   },
   "outputs": [
    {
     "name": "stdout",
     "output_type": "stream",
     "text": [
      "Fold 1:\n",
      "  Training samples: 6985\n",
      "  Testing samples: 1747\n",
      "Testing bin count -  [200  86 200 200 200 200  75 200 186 200]\n",
      "Fold 2:\n",
      "  Training samples: 6985\n",
      "  Testing samples: 1747\n",
      "Testing bin count -  [200  86 200 200 200 200  75 200 186 200]\n",
      "Fold 3:\n",
      "  Training samples: 6986\n",
      "  Testing samples: 1746\n",
      "Testing bin count -  [200  86 200 200 200 200  75 200 185 200]\n",
      "Fold 4:\n",
      "  Training samples: 6986\n",
      "  Testing samples: 1746\n",
      "Testing bin count -  [200  86 200 200 200 200  74 200 186 200]\n",
      "Fold 5:\n",
      "  Training samples: 6986\n",
      "  Testing samples: 1746\n",
      "Testing bin count -  [200  85 200 200 200 200  75 200 186 200]\n",
      "Dataset created\n"
     ]
    }
   ],
   "source": [
    "# Create an instance of StratifiedKFold with 5 folds\n",
    "stratified_kfold = StratifiedKFold(n_splits=5, shuffle=True, random_state=42)\n",
    "\n",
    "urbanSound8k = {}\n",
    "\n",
    "# Iterate over the folds\n",
    "for fold, (train_index, test_index) in enumerate(stratified_kfold.split(X, y)):\n",
    "    urbanSound8k['fold{}'.format(fold + 1)] = {}\n",
    "    # Split the data into training and testing sets\n",
    "    X_train, X_test = [X[i] for i in train_index], [X[i] for i in test_index]\n",
    "    y_train, y_test = [y[i] for i in train_index], [y[i] for i in test_index]\n",
    "\n",
    "    # Now, X_train, y_train contain the training data for the current fold\n",
    "    # and X_test, y_test contain the testing data for the current fold\n",
    "\n",
    "    print(f\"Fold {fold + 1}:\")\n",
    "    print(f\"  Training samples: {len(X_train)}\")\n",
    "    print(f\"  Testing samples: {len(X_test)}\")\n",
    "    \n",
    "    print('Testing bin count -  {}'.format(np.bincount(y_test)))\n",
    "    \n",
    "    urbanSound8k['fold{}'.format(fold + 1)]['sounds'] = X_test\n",
    "    urbanSound8k['fold{}'.format(fold + 1)]['labels'] = y_test\n",
    "\n",
    "save_path = os.path.join(dataset_path, 'wav{}.npz'.format(sr//1000))\n",
    "np.savez(save_path, **urbanSound8k)   \n",
    "print('Dataset created')"
   ]
  },
  {
   "cell_type": "code",
   "execution_count": 12,
   "metadata": {
    "ExecuteTime": {
     "end_time": "2024-05-15T07:51:06.451006700Z",
     "start_time": "2024-05-15T07:51:05.308568600Z"
    }
   },
   "outputs": [],
   "source": [
    "shutil.rmtree(master) # delete the master folder"
   ]
  }
 ],
 "metadata": {
  "kernelspec": {
   "display_name": "tf-gpu-env",
   "language": "python",
   "name": "python3"
  },
  "language_info": {
   "codemirror_mode": {
    "name": "ipython",
    "version": 3
   },
   "file_extension": ".py",
   "mimetype": "text/x-python",
   "name": "python",
   "nbconvert_exporter": "python",
   "pygments_lexer": "ipython3",
   "version": "3.10.0"
  }
 },
 "nbformat": 4,
 "nbformat_minor": 2
}
